{
 "cells": [
  {
   "cell_type": "markdown",
   "id": "78ad0078-9361-4333-b47d-153da57f7052",
   "metadata": {},
   "source": [
    "# Smart resume screener "
   ]
  },
  {
   "cell_type": "markdown",
   "id": "158f1283-32ac-4610-9b09-f08f79e14100",
   "metadata": {},
   "source": [
    "This notebook looks into using different data science libraries in an attempt to build an AI that takes a resume and a job description, and tells how well the resume fits the job. \n",
    "\n",
    "I am going to take this approach:\n",
    "1. Define the problem\n",
    "2. Data collection and preparation\n",
    "3. Feature Extraction (Encoding Text)\n",
    "4. Similarity + Scoring\n",
    "5. Visualization & Insights\n"
   ]
  },
  {
   "cell_type": "markdown",
   "id": "caa8236c",
   "metadata": {},
   "source": [
    "## 1. Define the problem:\n",
    "We need to know the Top 5 job descriptions matches our resume"
   ]
  },
  {
   "cell_type": "markdown",
   "id": "0b681a49-47ee-486a-a92b-cc8101752929",
   "metadata": {},
   "source": [
    "## 2. Data:\n",
    "- The job description data come from Job Dataset in Kaggle at the description below:\n",
    "<br>https://www.kaggle.com/datasets/kshitizregmi/jobs-and-job-description</br>\n",
    "- While the Resumes data come from Resume Dataset in Kaggle at the description below:\n",
    "<br>https://www.kaggle.com/datasets/snehaanbhawal/resume-dataset/data</br>\n"
   ]
  },
  {
   "cell_type": "markdown",
   "id": "684e1ee1-132c-494c-892d-f9c3e1f1047d",
   "metadata": {},
   "source": [
    "# 3. Feature Extraction (Encoding Text):\n",
    "- Convert each resume and job description to a vector <b>(using BERT)</b>\n",
    "- Store vectors in memory or file"
   ]
  },
  {
   "cell_type": "markdown",
   "id": "e787d619-ddbe-4319-80cd-c95379d11ee0",
   "metadata": {},
   "source": [
    "# 4. Similarity + Scoring\n",
    "- Use <b>cosine similarity</b> to compare vectors.\n",
    "- Output is a match score between 0 and 1.\n",
    "\n",
    "- Match:\n",
    "\n",
    "    - 1 job → many resumes"
   ]
  },
  {
   "cell_type": "markdown",
   "id": "2b4f6324-1295-41c4-8b1f-f7d3c71f5925",
   "metadata": {},
   "source": [
    "# 5. Visualization & Insights\n",
    "- Use matplotlib to:\n",
    "    - show top 5 matching resumes"
   ]
  },
  {
   "cell_type": "markdown",
   "id": "bc647f2e-4e10-4fa5-8247-13fa81a97d71",
   "metadata": {},
   "source": [
    "# 6. UI/APP:\n",
    "- Use <b>Streamlit</b> to create a simple interface:\n",
    " - Upload a resume\n",
    " - Upload a job description\n",
    " - Show the match score and highlights. "
   ]
  },
  {
   "cell_type": "markdown",
   "id": "57219047-f5ad-47e2-ba9d-694049f31d4e",
   "metadata": {},
   "source": [
    "# Data features\n",
    "- For the job description dataset:\n",
    "    - Job Title: Job titles associated with each description.\n",
    "    - Job Description: Comprehensive job descriptions outlining responsibilities and qualifications.\n",
    "\n",
    "- For the resume dataset:\n",
    "    - ID: Unique identifier and file name for the respective pdf.\n",
    "    - Resume_str : Contains the resume text only in string format.\n",
    "    - Resume_html : Contains the resume data in html format as present while web scrapping.\n",
    "    - Category : Category of the job the resume was used to apply.\n"
   ]
  },
  {
   "cell_type": "markdown",
   "id": "5d9b9987-db9b-4fdb-9de9-6ed5cf336305",
   "metadata": {},
   "source": [
    "## import the essential libraries"
   ]
  },
  {
   "cell_type": "code",
   "execution_count": 1,
   "id": "ac077103-3ddb-40b2-b469-f94367cc950f",
   "metadata": {},
   "outputs": [],
   "source": [
    "import pandas as pd\n",
    "import numpy as np\n",
    "import matplotlib.pyplot as plt"
   ]
  },
  {
   "cell_type": "markdown",
   "id": "34994556-a2e5-4047-be10-d2c32c2284d6",
   "metadata": {},
   "source": [
    "## Data Collection and prepration:"
   ]
  },
  {
   "cell_type": "markdown",
   "id": "599f88b4-b739-4f33-933b-aa3d8acf1590",
   "metadata": {},
   "source": [
    "## import datasets:"
   ]
  },
  {
   "cell_type": "code",
   "execution_count": 2,
   "id": "370260b2-750c-4bb0-8663-a5482797d34a",
   "metadata": {},
   "outputs": [],
   "source": [
    "import os\n",
    "df_resumes = pd.read_csv(os.path.join(\"Data\",\"Resume.csv\"))"
   ]
  },
  {
   "cell_type": "code",
   "execution_count": 3,
   "id": "3ea5baa9-c014-4f33-80d8-29d4e827c917",
   "metadata": {},
   "outputs": [
    {
     "data": {
      "text/html": [
       "<div>\n",
       "<style scoped>\n",
       "    .dataframe tbody tr th:only-of-type {\n",
       "        vertical-align: middle;\n",
       "    }\n",
       "\n",
       "    .dataframe tbody tr th {\n",
       "        vertical-align: top;\n",
       "    }\n",
       "\n",
       "    .dataframe thead th {\n",
       "        text-align: right;\n",
       "    }\n",
       "</style>\n",
       "<table border=\"1\" class=\"dataframe\">\n",
       "  <thead>\n",
       "    <tr style=\"text-align: right;\">\n",
       "      <th></th>\n",
       "      <th>ID</th>\n",
       "      <th>Resume_str</th>\n",
       "      <th>Resume_html</th>\n",
       "      <th>Category</th>\n",
       "    </tr>\n",
       "  </thead>\n",
       "  <tbody>\n",
       "    <tr>\n",
       "      <th>0</th>\n",
       "      <td>16852973</td>\n",
       "      <td>HR ADMINISTRATOR/MARKETING ASSOCIATE\\...</td>\n",
       "      <td>&lt;div class=\"fontsize fontface vmargins hmargin...</td>\n",
       "      <td>HR</td>\n",
       "    </tr>\n",
       "    <tr>\n",
       "      <th>1</th>\n",
       "      <td>22323967</td>\n",
       "      <td>HR SPECIALIST, US HR OPERATIONS      ...</td>\n",
       "      <td>&lt;div class=\"fontsize fontface vmargins hmargin...</td>\n",
       "      <td>HR</td>\n",
       "    </tr>\n",
       "    <tr>\n",
       "      <th>2</th>\n",
       "      <td>33176873</td>\n",
       "      <td>HR DIRECTOR       Summary      Over 2...</td>\n",
       "      <td>&lt;div class=\"fontsize fontface vmargins hmargin...</td>\n",
       "      <td>HR</td>\n",
       "    </tr>\n",
       "    <tr>\n",
       "      <th>3</th>\n",
       "      <td>27018550</td>\n",
       "      <td>HR SPECIALIST       Summary    Dedica...</td>\n",
       "      <td>&lt;div class=\"fontsize fontface vmargins hmargin...</td>\n",
       "      <td>HR</td>\n",
       "    </tr>\n",
       "    <tr>\n",
       "      <th>4</th>\n",
       "      <td>17812897</td>\n",
       "      <td>HR MANAGER         Skill Highlights  ...</td>\n",
       "      <td>&lt;div class=\"fontsize fontface vmargins hmargin...</td>\n",
       "      <td>HR</td>\n",
       "    </tr>\n",
       "  </tbody>\n",
       "</table>\n",
       "</div>"
      ],
      "text/plain": [
       "         ID                                         Resume_str  \\\n",
       "0  16852973           HR ADMINISTRATOR/MARKETING ASSOCIATE\\...   \n",
       "1  22323967           HR SPECIALIST, US HR OPERATIONS      ...   \n",
       "2  33176873           HR DIRECTOR       Summary      Over 2...   \n",
       "3  27018550           HR SPECIALIST       Summary    Dedica...   \n",
       "4  17812897           HR MANAGER         Skill Highlights  ...   \n",
       "\n",
       "                                         Resume_html Category  \n",
       "0  <div class=\"fontsize fontface vmargins hmargin...       HR  \n",
       "1  <div class=\"fontsize fontface vmargins hmargin...       HR  \n",
       "2  <div class=\"fontsize fontface vmargins hmargin...       HR  \n",
       "3  <div class=\"fontsize fontface vmargins hmargin...       HR  \n",
       "4  <div class=\"fontsize fontface vmargins hmargin...       HR  "
      ]
     },
     "execution_count": 3,
     "metadata": {},
     "output_type": "execute_result"
    }
   ],
   "source": [
    "df_resumes.head()"
   ]
  },
  {
   "cell_type": "code",
   "execution_count": 4,
   "id": "ab7978dc-e7c9-4c71-96a3-d9efc6bf05dc",
   "metadata": {},
   "outputs": [],
   "source": [
    "df_job_description = pd.read_csv(os.path.join(\"Data\",\"job_description\",\"job_title_des.csv\"))"
   ]
  },
  {
   "cell_type": "code",
   "execution_count": 5,
   "id": "7d0ddce6-dca3-4a7c-bbbd-15bc2b3e1356",
   "metadata": {},
   "outputs": [
    {
     "data": {
      "text/html": [
       "<div>\n",
       "<style scoped>\n",
       "    .dataframe tbody tr th:only-of-type {\n",
       "        vertical-align: middle;\n",
       "    }\n",
       "\n",
       "    .dataframe tbody tr th {\n",
       "        vertical-align: top;\n",
       "    }\n",
       "\n",
       "    .dataframe thead th {\n",
       "        text-align: right;\n",
       "    }\n",
       "</style>\n",
       "<table border=\"1\" class=\"dataframe\">\n",
       "  <thead>\n",
       "    <tr style=\"text-align: right;\">\n",
       "      <th></th>\n",
       "      <th>Unnamed: 0</th>\n",
       "      <th>Job Title</th>\n",
       "      <th>Job Description</th>\n",
       "    </tr>\n",
       "  </thead>\n",
       "  <tbody>\n",
       "    <tr>\n",
       "      <th>0</th>\n",
       "      <td>0</td>\n",
       "      <td>Flutter Developer</td>\n",
       "      <td>We are looking for hire experts flutter develo...</td>\n",
       "    </tr>\n",
       "    <tr>\n",
       "      <th>1</th>\n",
       "      <td>1</td>\n",
       "      <td>Django Developer</td>\n",
       "      <td>PYTHON/DJANGO (Developer/Lead) - Job Code(PDJ ...</td>\n",
       "    </tr>\n",
       "    <tr>\n",
       "      <th>2</th>\n",
       "      <td>2</td>\n",
       "      <td>Machine Learning</td>\n",
       "      <td>Data Scientist (Contractor)\\n\\nBangalore, IN\\n...</td>\n",
       "    </tr>\n",
       "    <tr>\n",
       "      <th>3</th>\n",
       "      <td>3</td>\n",
       "      <td>iOS Developer</td>\n",
       "      <td>JOB DESCRIPTION:\\n\\nStrong framework outside o...</td>\n",
       "    </tr>\n",
       "    <tr>\n",
       "      <th>4</th>\n",
       "      <td>4</td>\n",
       "      <td>Full Stack Developer</td>\n",
       "      <td>job responsibility full stack engineer – react...</td>\n",
       "    </tr>\n",
       "  </tbody>\n",
       "</table>\n",
       "</div>"
      ],
      "text/plain": [
       "   Unnamed: 0             Job Title  \\\n",
       "0           0     Flutter Developer   \n",
       "1           1      Django Developer   \n",
       "2           2      Machine Learning   \n",
       "3           3         iOS Developer   \n",
       "4           4  Full Stack Developer   \n",
       "\n",
       "                                     Job Description  \n",
       "0  We are looking for hire experts flutter develo...  \n",
       "1  PYTHON/DJANGO (Developer/Lead) - Job Code(PDJ ...  \n",
       "2  Data Scientist (Contractor)\\n\\nBangalore, IN\\n...  \n",
       "3  JOB DESCRIPTION:\\n\\nStrong framework outside o...  \n",
       "4  job responsibility full stack engineer – react...  "
      ]
     },
     "execution_count": 5,
     "metadata": {},
     "output_type": "execute_result"
    }
   ],
   "source": [
    "df_job_description.head()"
   ]
  },
  {
   "cell_type": "code",
   "execution_count": 6,
   "id": "03a2c18c-61fc-4f33-8bc9-d027b266ecce",
   "metadata": {},
   "outputs": [
    {
     "data": {
      "text/plain": [
       "ID             0\n",
       "Resume_str     0\n",
       "Resume_html    0\n",
       "Category       0\n",
       "dtype: int64"
      ]
     },
     "execution_count": 6,
     "metadata": {},
     "output_type": "execute_result"
    }
   ],
   "source": [
    "# check if there are nan values in our data:\n",
    "np.sum(pd.isna(df_resumes),axis=0)"
   ]
  },
  {
   "cell_type": "code",
   "execution_count": 7,
   "id": "a57032e3",
   "metadata": {},
   "outputs": [
    {
     "data": {
      "text/plain": [
       "Unnamed: 0         0\n",
       "Job Title          0\n",
       "Job Description    0\n",
       "dtype: int64"
      ]
     },
     "execution_count": 7,
     "metadata": {},
     "output_type": "execute_result"
    }
   ],
   "source": [
    "np.sum(pd.isna(df_job_description),axis=0)"
   ]
  },
  {
   "cell_type": "code",
   "execution_count": 8,
   "id": "2ce4ac77-4370-4967-9446-9c1c154ec356",
   "metadata": {},
   "outputs": [],
   "source": [
    "# determine the columns we will deal with\n",
    "resume_str = df_resumes[\"Resume_str\"]\n",
    "job_description_str = df_job_description[\"Job Description\"]"
   ]
  },
  {
   "cell_type": "markdown",
   "id": "fcd9b275",
   "metadata": {},
   "source": [
    "## Data prepration"
   ]
  },
  {
   "cell_type": "code",
   "execution_count": 9,
   "id": "8111e0d0-cf80-46d5-8890-e1ecee868139",
   "metadata": {},
   "outputs": [
    {
     "name": "stdout",
     "output_type": "stream",
     "text": [
      "12.1\n",
      "True\n",
      "2.5.1+cu121\n"
     ]
    }
   ],
   "source": [
    "# Check the GPU device\n",
    "import torch\n",
    "\n",
    "print(torch.version.cuda)        \n",
    "print(torch.cuda.is_available()) \n",
    "print(torch.__version__) "
   ]
  },
  {
   "cell_type": "markdown",
   "id": "2b06c562",
   "metadata": {},
   "source": [
    "### Turn our data into bert-base-uncased inputs:"
   ]
  },
  {
   "cell_type": "code",
   "execution_count": 10,
   "id": "c0c2e1ef",
   "metadata": {},
   "outputs": [],
   "source": [
    "model_name = \"google-bert/bert-base-uncased\"\n",
    "from transformers import AutoModel,AutoTokenizer\n",
    "model = AutoModel.from_pretrained(model_name)\n",
    "model = model.to(\"cuda\").to(torch.float16)\n",
    "tokenizer = AutoTokenizer.from_pretrained(model_name)"
   ]
  },
  {
   "cell_type": "code",
   "execution_count": 11,
   "id": "da0240d3",
   "metadata": {},
   "outputs": [
    {
     "name": "stdout",
     "output_type": "stream",
     "text": [
      "CPU times: total: 10.2 s\n",
      "Wall time: 10.1 s\n"
     ]
    }
   ],
   "source": [
    "%%time\n",
    "# Turn our resume dataset into inputs\n",
    "from functions import inputs_gpu\n",
    "inputs_resume_gpu = inputs_gpu(data=resume_str ,tokenizer= tokenizer)"
   ]
  },
  {
   "cell_type": "code",
   "execution_count": 12,
   "id": "d5000279",
   "metadata": {},
   "outputs": [
    {
     "name": "stdout",
     "output_type": "stream",
     "text": [
      "CPU times: total: 3.45 s\n",
      "Wall time: 3.4 s\n"
     ]
    }
   ],
   "source": [
    "%%time\n",
    "# Turn our description into inputs\n",
    "inputs_descriptions_gpu = inputs_gpu(data=job_description_str,tokenizer=tokenizer)"
   ]
  },
  {
   "cell_type": "markdown",
   "id": "398b7d94",
   "metadata": {},
   "source": [
    "### Get the last_hidden_state of your inputs"
   ]
  },
  {
   "cell_type": "code",
   "execution_count": 13,
   "id": "68e0b75e",
   "metadata": {},
   "outputs": [
    {
     "name": "stderr",
     "output_type": "stream",
     "text": [
      "C:\\Users\\legion\\AppData\\Local\\Programs\\Python\\Python311\\Lib\\site-packages\\torch\\nn\\modules\\module.py:1747: FutureWarning: `encoder_attention_mask` is deprecated and will be removed in version 4.55.0 for `BertSdpaSelfAttention.forward`.\n",
      "  return forward_call(*args, **kwargs)\n"
     ]
    }
   ],
   "source": [
    "# get the last_hidden_state and padded_attention for our resume data\n",
    "from functions import bert_base_outputs \n",
    "last_hidden_states_resume,padded_attention_mask_resume = bert_base_outputs(inputs=inputs_resume_gpu,batch_size=8,tokenizer=tokenizer,model=model)"
   ]
  },
  {
   "cell_type": "code",
   "execution_count": 14,
   "id": "0f7c6a22",
   "metadata": {},
   "outputs": [],
   "source": [
    "# get the last_hidden_state and padded_attention for our descripation data\n",
    "last_hidden_states_descriptions,padded_attention_mask_descriptions =bert_base_outputs(inputs=inputs_descriptions_gpu,batch_size=8,tokenizer=tokenizer,model=model)"
   ]
  },
  {
   "cell_type": "code",
   "execution_count": 15,
   "id": "473d3afe",
   "metadata": {},
   "outputs": [],
   "source": [
    "from torch.nn.utils.rnn import pad_sequence\n",
    "last_hidden_states_resume = pad_sequence(last_hidden_states_resume,batch_first=True)\n",
    "padded_attention_mask_resume= pad_sequence(padded_attention_mask_resume,batch_first=True)\n",
    "padded_attention_mask_resume = padded_attention_mask_resume.unsqueeze(-1) "
   ]
  },
  {
   "cell_type": "code",
   "execution_count": 16,
   "id": "188faae1",
   "metadata": {},
   "outputs": [
    {
     "data": {
      "text/plain": [
       "(torch.Size([2484, 512, 768]), torch.Size([2484, 512, 1]))"
      ]
     },
     "execution_count": 16,
     "metadata": {},
     "output_type": "execute_result"
    }
   ],
   "source": [
    "last_hidden_states_resume.size(),padded_attention_mask_resume.size()"
   ]
  },
  {
   "cell_type": "code",
   "execution_count": 17,
   "id": "ab8e6488",
   "metadata": {},
   "outputs": [],
   "source": [
    "last_hidden_states_descriptions = pad_sequence(last_hidden_states_descriptions,batch_first=True)\n",
    "padded_attention_mask_descriptions=pad_sequence(padded_attention_mask_descriptions,batch_first=True)\n",
    "padded_attention_mask_descriptions = padded_attention_mask_descriptions.unsqueeze(-1) "
   ]
  },
  {
   "cell_type": "code",
   "execution_count": 18,
   "id": "3d171efc",
   "metadata": {},
   "outputs": [],
   "source": [
    "# def get_mean_pooling(last_hidden_states,attention_mask):\n",
    "  #'''\n",
    " # a function to get the mean_pooling from the last hidden states and attention maskes\n",
    "  #'''\n",
    "  # masked_embeddings = last_hidden_states * attention_mask\n",
    "  # sum_embeddings = masked_embeddings.sum(1)   \n",
    "  # token_counts = attention_mask.sum(1)         \n",
    "  # mean_pooled = sum_embeddings / torch.clamp(token_counts, min=1e-9)\n",
    "\n",
    " #  return mean_pooled\n"
   ]
  },
  {
   "cell_type": "code",
   "execution_count": 19,
   "id": "4bb14a57",
   "metadata": {},
   "outputs": [],
   "source": [
    "from functions import get_mean_pooling\n",
    "resume_mean_embeddings = get_mean_pooling(last_hidden_states_resume,padded_attention_mask_resume)\n",
    "description_mean_embeddings = get_mean_pooling(last_hidden_states_descriptions,padded_attention_mask_descriptions)"
   ]
  },
  {
   "cell_type": "code",
   "execution_count": 20,
   "id": "fe920261",
   "metadata": {},
   "outputs": [
    {
     "data": {
      "text/plain": [
       "(torch.Size([2484, 768]), torch.Size([2277, 768]))"
      ]
     },
     "execution_count": 20,
     "metadata": {},
     "output_type": "execute_result"
    }
   ],
   "source": [
    "resume_mean_embeddings.size(),description_mean_embeddings.size()"
   ]
  },
  {
   "cell_type": "markdown",
   "id": "149c8d11",
   "metadata": {},
   "source": [
    "## Get the **cosine similarity** of resume and descripation datasets: "
   ]
  },
  {
   "cell_type": "code",
   "execution_count": 21,
   "id": "9bc8d221",
   "metadata": {},
   "outputs": [
    {
     "data": {
      "text/html": [
       "<div>\n",
       "<style scoped>\n",
       "    .dataframe tbody tr th:only-of-type {\n",
       "        vertical-align: middle;\n",
       "    }\n",
       "\n",
       "    .dataframe tbody tr th {\n",
       "        vertical-align: top;\n",
       "    }\n",
       "\n",
       "    .dataframe thead th {\n",
       "        text-align: right;\n",
       "    }\n",
       "</style>\n",
       "<table border=\"1\" class=\"dataframe\">\n",
       "  <thead>\n",
       "    <tr style=\"text-align: right;\">\n",
       "      <th></th>\n",
       "      <th>0</th>\n",
       "      <th>1</th>\n",
       "      <th>2</th>\n",
       "      <th>3</th>\n",
       "      <th>4</th>\n",
       "      <th>5</th>\n",
       "      <th>6</th>\n",
       "      <th>7</th>\n",
       "      <th>8</th>\n",
       "      <th>9</th>\n",
       "      <th>...</th>\n",
       "      <th>2267</th>\n",
       "      <th>2268</th>\n",
       "      <th>2269</th>\n",
       "      <th>2270</th>\n",
       "      <th>2271</th>\n",
       "      <th>2272</th>\n",
       "      <th>2273</th>\n",
       "      <th>2274</th>\n",
       "      <th>2275</th>\n",
       "      <th>2276</th>\n",
       "    </tr>\n",
       "  </thead>\n",
       "  <tbody>\n",
       "    <tr>\n",
       "      <th>0</th>\n",
       "      <td>0.765180</td>\n",
       "      <td>0.793378</td>\n",
       "      <td>0.885487</td>\n",
       "      <td>0.856665</td>\n",
       "      <td>0.762086</td>\n",
       "      <td>0.913375</td>\n",
       "      <td>0.816877</td>\n",
       "      <td>0.836832</td>\n",
       "      <td>0.873155</td>\n",
       "      <td>0.894079</td>\n",
       "      <td>...</td>\n",
       "      <td>0.782604</td>\n",
       "      <td>0.856424</td>\n",
       "      <td>0.814811</td>\n",
       "      <td>0.798256</td>\n",
       "      <td>0.910834</td>\n",
       "      <td>0.890195</td>\n",
       "      <td>0.762748</td>\n",
       "      <td>0.761685</td>\n",
       "      <td>0.909591</td>\n",
       "      <td>0.806916</td>\n",
       "    </tr>\n",
       "    <tr>\n",
       "      <th>1</th>\n",
       "      <td>0.739644</td>\n",
       "      <td>0.759867</td>\n",
       "      <td>0.855926</td>\n",
       "      <td>0.846295</td>\n",
       "      <td>0.776430</td>\n",
       "      <td>0.881188</td>\n",
       "      <td>0.833277</td>\n",
       "      <td>0.829615</td>\n",
       "      <td>0.863721</td>\n",
       "      <td>0.889082</td>\n",
       "      <td>...</td>\n",
       "      <td>0.815329</td>\n",
       "      <td>0.840262</td>\n",
       "      <td>0.787937</td>\n",
       "      <td>0.798920</td>\n",
       "      <td>0.904091</td>\n",
       "      <td>0.881253</td>\n",
       "      <td>0.790503</td>\n",
       "      <td>0.738743</td>\n",
       "      <td>0.886445</td>\n",
       "      <td>0.819027</td>\n",
       "    </tr>\n",
       "    <tr>\n",
       "      <th>2</th>\n",
       "      <td>0.782749</td>\n",
       "      <td>0.784776</td>\n",
       "      <td>0.875765</td>\n",
       "      <td>0.839010</td>\n",
       "      <td>0.737886</td>\n",
       "      <td>0.893214</td>\n",
       "      <td>0.794738</td>\n",
       "      <td>0.820541</td>\n",
       "      <td>0.846678</td>\n",
       "      <td>0.883411</td>\n",
       "      <td>...</td>\n",
       "      <td>0.755545</td>\n",
       "      <td>0.869941</td>\n",
       "      <td>0.787246</td>\n",
       "      <td>0.782113</td>\n",
       "      <td>0.893422</td>\n",
       "      <td>0.882013</td>\n",
       "      <td>0.725485</td>\n",
       "      <td>0.786503</td>\n",
       "      <td>0.900570</td>\n",
       "      <td>0.791749</td>\n",
       "    </tr>\n",
       "    <tr>\n",
       "      <th>3</th>\n",
       "      <td>0.750695</td>\n",
       "      <td>0.792658</td>\n",
       "      <td>0.874945</td>\n",
       "      <td>0.843374</td>\n",
       "      <td>0.773467</td>\n",
       "      <td>0.903467</td>\n",
       "      <td>0.822677</td>\n",
       "      <td>0.841726</td>\n",
       "      <td>0.875457</td>\n",
       "      <td>0.895244</td>\n",
       "      <td>...</td>\n",
       "      <td>0.811682</td>\n",
       "      <td>0.846514</td>\n",
       "      <td>0.806832</td>\n",
       "      <td>0.811231</td>\n",
       "      <td>0.912988</td>\n",
       "      <td>0.889204</td>\n",
       "      <td>0.798535</td>\n",
       "      <td>0.760410</td>\n",
       "      <td>0.895027</td>\n",
       "      <td>0.808546</td>\n",
       "    </tr>\n",
       "    <tr>\n",
       "      <th>4</th>\n",
       "      <td>0.750719</td>\n",
       "      <td>0.786272</td>\n",
       "      <td>0.880176</td>\n",
       "      <td>0.868678</td>\n",
       "      <td>0.761127</td>\n",
       "      <td>0.921179</td>\n",
       "      <td>0.805897</td>\n",
       "      <td>0.844267</td>\n",
       "      <td>0.882056</td>\n",
       "      <td>0.910554</td>\n",
       "      <td>...</td>\n",
       "      <td>0.778062</td>\n",
       "      <td>0.877120</td>\n",
       "      <td>0.793361</td>\n",
       "      <td>0.799536</td>\n",
       "      <td>0.915381</td>\n",
       "      <td>0.898576</td>\n",
       "      <td>0.756585</td>\n",
       "      <td>0.749580</td>\n",
       "      <td>0.920299</td>\n",
       "      <td>0.798677</td>\n",
       "    </tr>\n",
       "  </tbody>\n",
       "</table>\n",
       "<p>5 rows × 2277 columns</p>\n",
       "</div>"
      ],
      "text/plain": [
       "       0         1         2         3         4         5         6     \\\n",
       "0  0.765180  0.793378  0.885487  0.856665  0.762086  0.913375  0.816877   \n",
       "1  0.739644  0.759867  0.855926  0.846295  0.776430  0.881188  0.833277   \n",
       "2  0.782749  0.784776  0.875765  0.839010  0.737886  0.893214  0.794738   \n",
       "3  0.750695  0.792658  0.874945  0.843374  0.773467  0.903467  0.822677   \n",
       "4  0.750719  0.786272  0.880176  0.868678  0.761127  0.921179  0.805897   \n",
       "\n",
       "       7         8         9     ...      2267      2268      2269      2270  \\\n",
       "0  0.836832  0.873155  0.894079  ...  0.782604  0.856424  0.814811  0.798256   \n",
       "1  0.829615  0.863721  0.889082  ...  0.815329  0.840262  0.787937  0.798920   \n",
       "2  0.820541  0.846678  0.883411  ...  0.755545  0.869941  0.787246  0.782113   \n",
       "3  0.841726  0.875457  0.895244  ...  0.811682  0.846514  0.806832  0.811231   \n",
       "4  0.844267  0.882056  0.910554  ...  0.778062  0.877120  0.793361  0.799536   \n",
       "\n",
       "       2271      2272      2273      2274      2275      2276  \n",
       "0  0.910834  0.890195  0.762748  0.761685  0.909591  0.806916  \n",
       "1  0.904091  0.881253  0.790503  0.738743  0.886445  0.819027  \n",
       "2  0.893422  0.882013  0.725485  0.786503  0.900570  0.791749  \n",
       "3  0.912988  0.889204  0.798535  0.760410  0.895027  0.808546  \n",
       "4  0.915381  0.898576  0.756585  0.749580  0.920299  0.798677  \n",
       "\n",
       "[5 rows x 2277 columns]"
      ]
     },
     "execution_count": 21,
     "metadata": {},
     "output_type": "execute_result"
    }
   ],
   "source": [
    "import torch\n",
    "import torch.nn.functional as F\n",
    "from functions import get_cosine_similarity\n",
    "cosine_matrix = get_cosine_similarity(resume_mean_embeddings,description_mean_embeddings)\n",
    "cosine_matrix.head()"
   ]
  },
  {
   "cell_type": "code",
   "execution_count": 22,
   "id": "a1a2ffbd",
   "metadata": {},
   "outputs": [
    {
     "name": "stdout",
     "output_type": "stream",
     "text": [
      "2484 2277\n",
      "2484 2277\n"
     ]
    }
   ],
   "source": [
    "print(len(resume_str),len(job_description_str))\n",
    "print(len(cosine_matrix),len(cosine_matrix.columns))"
   ]
  },
  {
   "cell_type": "markdown",
   "id": "8be6e928",
   "metadata": {},
   "source": [
    "### Using SBERT model:"
   ]
  },
  {
   "cell_type": "code",
   "execution_count": 23,
   "id": "774f2ebb",
   "metadata": {},
   "outputs": [
    {
     "name": "stderr",
     "output_type": "stream",
     "text": [
      "C:\\Users\\legion\\AppData\\Local\\Programs\\Python\\Python311\\Lib\\site-packages\\torch\\nn\\modules\\module.py:1747: FutureWarning: `encoder_attention_mask` is deprecated and will be removed in version 4.55.0 for `BertSdpaSelfAttention.forward`.\n",
      "  return forward_call(*args, **kwargs)\n"
     ]
    },
    {
     "data": {
      "text/html": [
       "<div>\n",
       "<style scoped>\n",
       "    .dataframe tbody tr th:only-of-type {\n",
       "        vertical-align: middle;\n",
       "    }\n",
       "\n",
       "    .dataframe tbody tr th {\n",
       "        vertical-align: top;\n",
       "    }\n",
       "\n",
       "    .dataframe thead th {\n",
       "        text-align: right;\n",
       "    }\n",
       "</style>\n",
       "<table border=\"1\" class=\"dataframe\">\n",
       "  <thead>\n",
       "    <tr style=\"text-align: right;\">\n",
       "      <th></th>\n",
       "      <th>0</th>\n",
       "      <th>1</th>\n",
       "      <th>2</th>\n",
       "      <th>3</th>\n",
       "      <th>4</th>\n",
       "      <th>5</th>\n",
       "      <th>6</th>\n",
       "      <th>7</th>\n",
       "      <th>8</th>\n",
       "      <th>9</th>\n",
       "      <th>...</th>\n",
       "      <th>2267</th>\n",
       "      <th>2268</th>\n",
       "      <th>2269</th>\n",
       "      <th>2270</th>\n",
       "      <th>2271</th>\n",
       "      <th>2272</th>\n",
       "      <th>2273</th>\n",
       "      <th>2274</th>\n",
       "      <th>2275</th>\n",
       "      <th>2276</th>\n",
       "    </tr>\n",
       "  </thead>\n",
       "  <tbody>\n",
       "    <tr>\n",
       "      <th>0</th>\n",
       "      <td>0.247523</td>\n",
       "      <td>0.329670</td>\n",
       "      <td>0.254185</td>\n",
       "      <td>0.200179</td>\n",
       "      <td>0.337383</td>\n",
       "      <td>0.379628</td>\n",
       "      <td>0.421787</td>\n",
       "      <td>0.270297</td>\n",
       "      <td>0.325213</td>\n",
       "      <td>0.341856</td>\n",
       "      <td>...</td>\n",
       "      <td>0.437355</td>\n",
       "      <td>0.300996</td>\n",
       "      <td>0.220465</td>\n",
       "      <td>0.452823</td>\n",
       "      <td>0.440081</td>\n",
       "      <td>0.368544</td>\n",
       "      <td>0.349926</td>\n",
       "      <td>0.338771</td>\n",
       "      <td>0.536664</td>\n",
       "      <td>0.327659</td>\n",
       "    </tr>\n",
       "    <tr>\n",
       "      <th>1</th>\n",
       "      <td>0.296511</td>\n",
       "      <td>0.268868</td>\n",
       "      <td>0.214294</td>\n",
       "      <td>0.289696</td>\n",
       "      <td>0.418134</td>\n",
       "      <td>0.333509</td>\n",
       "      <td>0.451069</td>\n",
       "      <td>0.269323</td>\n",
       "      <td>0.277063</td>\n",
       "      <td>0.408663</td>\n",
       "      <td>...</td>\n",
       "      <td>0.444506</td>\n",
       "      <td>0.271427</td>\n",
       "      <td>0.130853</td>\n",
       "      <td>0.535708</td>\n",
       "      <td>0.493432</td>\n",
       "      <td>0.361115</td>\n",
       "      <td>0.415438</td>\n",
       "      <td>0.254131</td>\n",
       "      <td>0.389912</td>\n",
       "      <td>0.399001</td>\n",
       "    </tr>\n",
       "    <tr>\n",
       "      <th>2</th>\n",
       "      <td>0.113360</td>\n",
       "      <td>0.194007</td>\n",
       "      <td>0.157107</td>\n",
       "      <td>0.126938</td>\n",
       "      <td>0.251667</td>\n",
       "      <td>0.327966</td>\n",
       "      <td>0.328824</td>\n",
       "      <td>0.154032</td>\n",
       "      <td>0.207693</td>\n",
       "      <td>0.250053</td>\n",
       "      <td>...</td>\n",
       "      <td>0.379855</td>\n",
       "      <td>0.103091</td>\n",
       "      <td>0.084443</td>\n",
       "      <td>0.412136</td>\n",
       "      <td>0.322944</td>\n",
       "      <td>0.278280</td>\n",
       "      <td>0.295871</td>\n",
       "      <td>0.205038</td>\n",
       "      <td>0.371558</td>\n",
       "      <td>0.320736</td>\n",
       "    </tr>\n",
       "    <tr>\n",
       "      <th>3</th>\n",
       "      <td>0.304293</td>\n",
       "      <td>0.254132</td>\n",
       "      <td>0.306239</td>\n",
       "      <td>0.249787</td>\n",
       "      <td>0.349476</td>\n",
       "      <td>0.371580</td>\n",
       "      <td>0.349342</td>\n",
       "      <td>0.240830</td>\n",
       "      <td>0.308491</td>\n",
       "      <td>0.372698</td>\n",
       "      <td>...</td>\n",
       "      <td>0.418915</td>\n",
       "      <td>0.281071</td>\n",
       "      <td>0.161889</td>\n",
       "      <td>0.403327</td>\n",
       "      <td>0.460070</td>\n",
       "      <td>0.335481</td>\n",
       "      <td>0.299195</td>\n",
       "      <td>0.172963</td>\n",
       "      <td>0.460289</td>\n",
       "      <td>0.309310</td>\n",
       "    </tr>\n",
       "    <tr>\n",
       "      <th>4</th>\n",
       "      <td>0.279999</td>\n",
       "      <td>0.299787</td>\n",
       "      <td>0.224620</td>\n",
       "      <td>0.242192</td>\n",
       "      <td>0.349321</td>\n",
       "      <td>0.374718</td>\n",
       "      <td>0.389188</td>\n",
       "      <td>0.247295</td>\n",
       "      <td>0.314545</td>\n",
       "      <td>0.329988</td>\n",
       "      <td>...</td>\n",
       "      <td>0.412094</td>\n",
       "      <td>0.158674</td>\n",
       "      <td>0.154592</td>\n",
       "      <td>0.444020</td>\n",
       "      <td>0.385475</td>\n",
       "      <td>0.366994</td>\n",
       "      <td>0.375442</td>\n",
       "      <td>0.244821</td>\n",
       "      <td>0.468088</td>\n",
       "      <td>0.302193</td>\n",
       "    </tr>\n",
       "    <tr>\n",
       "      <th>...</th>\n",
       "      <td>...</td>\n",
       "      <td>...</td>\n",
       "      <td>...</td>\n",
       "      <td>...</td>\n",
       "      <td>...</td>\n",
       "      <td>...</td>\n",
       "      <td>...</td>\n",
       "      <td>...</td>\n",
       "      <td>...</td>\n",
       "      <td>...</td>\n",
       "      <td>...</td>\n",
       "      <td>...</td>\n",
       "      <td>...</td>\n",
       "      <td>...</td>\n",
       "      <td>...</td>\n",
       "      <td>...</td>\n",
       "      <td>...</td>\n",
       "      <td>...</td>\n",
       "      <td>...</td>\n",
       "      <td>...</td>\n",
       "      <td>...</td>\n",
       "    </tr>\n",
       "    <tr>\n",
       "      <th>2479</th>\n",
       "      <td>0.133432</td>\n",
       "      <td>0.196205</td>\n",
       "      <td>0.176606</td>\n",
       "      <td>0.115892</td>\n",
       "      <td>0.209479</td>\n",
       "      <td>0.206392</td>\n",
       "      <td>0.264514</td>\n",
       "      <td>0.154461</td>\n",
       "      <td>0.265172</td>\n",
       "      <td>0.251339</td>\n",
       "      <td>...</td>\n",
       "      <td>0.335319</td>\n",
       "      <td>0.166205</td>\n",
       "      <td>0.096608</td>\n",
       "      <td>0.316020</td>\n",
       "      <td>0.314881</td>\n",
       "      <td>0.245983</td>\n",
       "      <td>0.287354</td>\n",
       "      <td>0.200631</td>\n",
       "      <td>0.332294</td>\n",
       "      <td>0.239751</td>\n",
       "    </tr>\n",
       "    <tr>\n",
       "      <th>2480</th>\n",
       "      <td>0.164158</td>\n",
       "      <td>0.220488</td>\n",
       "      <td>0.165919</td>\n",
       "      <td>0.285494</td>\n",
       "      <td>0.296050</td>\n",
       "      <td>0.263443</td>\n",
       "      <td>0.323062</td>\n",
       "      <td>0.215739</td>\n",
       "      <td>0.254393</td>\n",
       "      <td>0.309828</td>\n",
       "      <td>...</td>\n",
       "      <td>0.411795</td>\n",
       "      <td>0.262125</td>\n",
       "      <td>0.073685</td>\n",
       "      <td>0.400247</td>\n",
       "      <td>0.340030</td>\n",
       "      <td>0.302484</td>\n",
       "      <td>0.324031</td>\n",
       "      <td>0.187045</td>\n",
       "      <td>0.427000</td>\n",
       "      <td>0.335367</td>\n",
       "    </tr>\n",
       "    <tr>\n",
       "      <th>2481</th>\n",
       "      <td>0.300262</td>\n",
       "      <td>0.335849</td>\n",
       "      <td>0.318915</td>\n",
       "      <td>0.252597</td>\n",
       "      <td>0.371741</td>\n",
       "      <td>0.360399</td>\n",
       "      <td>0.429469</td>\n",
       "      <td>0.268666</td>\n",
       "      <td>0.441438</td>\n",
       "      <td>0.381440</td>\n",
       "      <td>...</td>\n",
       "      <td>0.414652</td>\n",
       "      <td>0.180457</td>\n",
       "      <td>0.182197</td>\n",
       "      <td>0.438277</td>\n",
       "      <td>0.458648</td>\n",
       "      <td>0.433021</td>\n",
       "      <td>0.394129</td>\n",
       "      <td>0.202822</td>\n",
       "      <td>0.443769</td>\n",
       "      <td>0.295024</td>\n",
       "    </tr>\n",
       "    <tr>\n",
       "      <th>2482</th>\n",
       "      <td>0.255740</td>\n",
       "      <td>0.362696</td>\n",
       "      <td>0.355747</td>\n",
       "      <td>0.281028</td>\n",
       "      <td>0.255633</td>\n",
       "      <td>0.351635</td>\n",
       "      <td>0.321591</td>\n",
       "      <td>0.236316</td>\n",
       "      <td>0.364340</td>\n",
       "      <td>0.363398</td>\n",
       "      <td>...</td>\n",
       "      <td>0.409664</td>\n",
       "      <td>0.270106</td>\n",
       "      <td>0.161039</td>\n",
       "      <td>0.441132</td>\n",
       "      <td>0.393843</td>\n",
       "      <td>0.369426</td>\n",
       "      <td>0.271419</td>\n",
       "      <td>0.192095</td>\n",
       "      <td>0.425771</td>\n",
       "      <td>0.318736</td>\n",
       "    </tr>\n",
       "    <tr>\n",
       "      <th>2483</th>\n",
       "      <td>0.241929</td>\n",
       "      <td>0.258063</td>\n",
       "      <td>0.244224</td>\n",
       "      <td>0.239800</td>\n",
       "      <td>0.356831</td>\n",
       "      <td>0.352660</td>\n",
       "      <td>0.310855</td>\n",
       "      <td>0.269145</td>\n",
       "      <td>0.341161</td>\n",
       "      <td>0.342110</td>\n",
       "      <td>...</td>\n",
       "      <td>0.387442</td>\n",
       "      <td>0.192262</td>\n",
       "      <td>0.169707</td>\n",
       "      <td>0.329948</td>\n",
       "      <td>0.346140</td>\n",
       "      <td>0.387193</td>\n",
       "      <td>0.322870</td>\n",
       "      <td>0.178079</td>\n",
       "      <td>0.421168</td>\n",
       "      <td>0.308461</td>\n",
       "    </tr>\n",
       "  </tbody>\n",
       "</table>\n",
       "<p>2484 rows × 2277 columns</p>\n",
       "</div>"
      ],
      "text/plain": [
       "          0         1         2         3         4         5         6     \\\n",
       "0     0.247523  0.329670  0.254185  0.200179  0.337383  0.379628  0.421787   \n",
       "1     0.296511  0.268868  0.214294  0.289696  0.418134  0.333509  0.451069   \n",
       "2     0.113360  0.194007  0.157107  0.126938  0.251667  0.327966  0.328824   \n",
       "3     0.304293  0.254132  0.306239  0.249787  0.349476  0.371580  0.349342   \n",
       "4     0.279999  0.299787  0.224620  0.242192  0.349321  0.374718  0.389188   \n",
       "...        ...       ...       ...       ...       ...       ...       ...   \n",
       "2479  0.133432  0.196205  0.176606  0.115892  0.209479  0.206392  0.264514   \n",
       "2480  0.164158  0.220488  0.165919  0.285494  0.296050  0.263443  0.323062   \n",
       "2481  0.300262  0.335849  0.318915  0.252597  0.371741  0.360399  0.429469   \n",
       "2482  0.255740  0.362696  0.355747  0.281028  0.255633  0.351635  0.321591   \n",
       "2483  0.241929  0.258063  0.244224  0.239800  0.356831  0.352660  0.310855   \n",
       "\n",
       "          7         8         9     ...      2267      2268      2269  \\\n",
       "0     0.270297  0.325213  0.341856  ...  0.437355  0.300996  0.220465   \n",
       "1     0.269323  0.277063  0.408663  ...  0.444506  0.271427  0.130853   \n",
       "2     0.154032  0.207693  0.250053  ...  0.379855  0.103091  0.084443   \n",
       "3     0.240830  0.308491  0.372698  ...  0.418915  0.281071  0.161889   \n",
       "4     0.247295  0.314545  0.329988  ...  0.412094  0.158674  0.154592   \n",
       "...        ...       ...       ...  ...       ...       ...       ...   \n",
       "2479  0.154461  0.265172  0.251339  ...  0.335319  0.166205  0.096608   \n",
       "2480  0.215739  0.254393  0.309828  ...  0.411795  0.262125  0.073685   \n",
       "2481  0.268666  0.441438  0.381440  ...  0.414652  0.180457  0.182197   \n",
       "2482  0.236316  0.364340  0.363398  ...  0.409664  0.270106  0.161039   \n",
       "2483  0.269145  0.341161  0.342110  ...  0.387442  0.192262  0.169707   \n",
       "\n",
       "          2270      2271      2272      2273      2274      2275      2276  \n",
       "0     0.452823  0.440081  0.368544  0.349926  0.338771  0.536664  0.327659  \n",
       "1     0.535708  0.493432  0.361115  0.415438  0.254131  0.389912  0.399001  \n",
       "2     0.412136  0.322944  0.278280  0.295871  0.205038  0.371558  0.320736  \n",
       "3     0.403327  0.460070  0.335481  0.299195  0.172963  0.460289  0.309310  \n",
       "4     0.444020  0.385475  0.366994  0.375442  0.244821  0.468088  0.302193  \n",
       "...        ...       ...       ...       ...       ...       ...       ...  \n",
       "2479  0.316020  0.314881  0.245983  0.287354  0.200631  0.332294  0.239751  \n",
       "2480  0.400247  0.340030  0.302484  0.324031  0.187045  0.427000  0.335367  \n",
       "2481  0.438277  0.458648  0.433021  0.394129  0.202822  0.443769  0.295024  \n",
       "2482  0.441132  0.393843  0.369426  0.271419  0.192095  0.425771  0.318736  \n",
       "2483  0.329948  0.346140  0.387193  0.322870  0.178079  0.421168  0.308461  \n",
       "\n",
       "[2484 rows x 2277 columns]"
      ]
     },
     "execution_count": 23,
     "metadata": {},
     "output_type": "execute_result"
    }
   ],
   "source": [
    "from functions import sbert_model\n",
    "sim_cos =sbert_model(resume_str,job_description_str)\n",
    "sim_cos"
   ]
  },
  {
   "cell_type": "markdown",
   "id": "3598651a",
   "metadata": {},
   "source": [
    "## Visualization the top 5 descriptions:"
   ]
  },
  {
   "cell_type": "code",
   "execution_count": 24,
   "id": "f6b12f83",
   "metadata": {},
   "outputs": [],
   "source": [
    "from functions import get_jobtitle_descriptions_indexes_and_percentages"
   ]
  },
  {
   "cell_type": "code",
   "execution_count": 25,
   "id": "3c7199a7",
   "metadata": {},
   "outputs": [],
   "source": [
    "from functions import top_n_descriptions"
   ]
  },
  {
   "cell_type": "code",
   "execution_count": 26,
   "id": "7f90b0cc",
   "metadata": {},
   "outputs": [
    {
     "name": "stdout",
     "output_type": "stream",
     "text": [
      "Welcome 33176873, your Category is HR\n",
      " The Top 5 job descriptions for your resume are:\n",
      "\n",
      "1. Java Developer_1401                 --> with 93.68%\n",
      "2. Java Developer_1937                 --> with 92.90%\n",
      "3. Java Developer_1380                 --> with 92.88%\n",
      "4. Java Developer_1430                 --> with 92.78%\n",
      "5. Java Developer_1604                 --> with 92.41%\n"
     ]
    }
   ],
   "source": [
    "# for BERT model\n",
    "from functions import top_n_descriptions\n",
    "top_n_descriptions(similarity_matrix = cosine_matrix,df_resumes=df_resumes,df_job_description=df_job_description)"
   ]
  },
  {
   "cell_type": "code",
   "execution_count": 27,
   "id": "7ed7c64c",
   "metadata": {},
   "outputs": [
    {
     "name": "stdout",
     "output_type": "stream",
     "text": [
      "Welcome 33176873, your Category is HR\n",
      " The Top 5 job descriptions for your resume are:\n",
      "\n",
      "1. Database Administrator_1305         --> with 58.51%\n",
      "2. Database Administrator_1454         --> with 55.98%\n",
      "3. Java Developer_1465                 --> with 54.57%\n",
      "4. Database Administrator_2041         --> with 52.49%\n",
      "5. Database Administrator_1493         --> with 52.07%\n"
     ]
    }
   ],
   "source": [
    "# for SBERT model\n",
    "top_n_descriptions(similarity_matrix = sim_cos,df_resumes=df_resumes,df_job_description=df_job_description)\n"
   ]
  },
  {
   "cell_type": "code",
   "execution_count": 29,
   "id": "ccaa84b6",
   "metadata": {},
   "outputs": [
    {
     "data": {
      "image/png": "[encoded data removed]",
      "text/plain": [
       "<Figure size 640x480 with 1 Axes>"
      ]
     },
     "metadata": {},
     "output_type": "display_data"
    }
   ],
   "source": [
    "# For BERT model:\n",
    "from functions import draw_top_n_descriptions\n",
    "draw_top_n_descriptions(similarity_matrix= cosine_matrix,df_resumes=df_resumes,df_job_description=df_job_description)"
   ]
  },
  {
   "cell_type": "code",
   "execution_count": 30,
   "id": "2b99efea",
   "metadata": {},
   "outputs": [
    {
     "data": {
      "image/png": "[encoded data removed]",
      "text/plain": [
       "<Figure size 640x480 with 1 Axes>"
      ]
     },
     "metadata": {},
     "output_type": "display_data"
    }
   ],
   "source": [
    "# For SBERT model:\n",
    "draw_top_n_descriptions(similarity_matrix=sim_cos,df_resumes=df_resumes,df_job_description=df_job_description)"
   ]
  },
  {
   "cell_type": "markdown",
   "id": "28c0b30d",
   "metadata": {},
   "source": [
    "# Conclusion:\n",
    "In this project, I built a tool to compare resumes and job descriptions using two transformer-based models:\n",
    "1. BERT-base\n",
    "2. SBERT\n",
    "\n",
    "- **BERT-base** produced very high similarity scores, but it is not specialized for this task, so the results were less reliable. \n",
    "\n",
    "- **SBERT**, on the other hand, is specifically trained for semantic similarity and provided more meaningful and realistic results. The main value is not just the percentage, but the ranking of job matches, where SBERT performed much better.\n",
    "\n",
    "- This shows how AI can be applied in resume screening to quickly identify the best-fitting job opportunities.\n",
    "\n",
    "- The approach can be extended to other areas such as search engines, chatbots, and recommendation systems."
   ]
  }
 ],
 "metadata": {
  "kernelspec": {
   "display_name": "Python 3 (ipykernel)",
   "language": "python",
   "name": "python3"
  },
  "language_info": {
   "codemirror_mode": {
    "name": "ipython",
    "version": 3
   },
   "file_extension": ".py",
   "mimetype": "text/x-python",
   "name": "python",
   "nbconvert_exporter": "python",
   "pygments_lexer": "ipython3",
   "version": "3.11.0"
  }
 },
 "nbformat": 4,
 "nbformat_minor": 5
}
